{
 "cells": [
  {
   "cell_type": "code",
   "execution_count": 1,
   "metadata": {},
   "outputs": [],
   "source": [
    "from bluescraper import constants\n",
    "from bluescraper.config import ConfigReader\n",
    "from bluescraper.scraper import Scraper \n",
    "from bluescraper.utils import get_soup, TagDefinition\n",
    "from bs4 import BeautifulSoup\n",
    "import selenium\n",
    "from selenium.webdriver.firefox.options import Options\n",
    "from selenium.webdriver.support.ui import WebDriverWait\n",
    "from selenium.webdriver.support import expected_conditions as EC\n",
    "from selenium.webdriver.common.by import By\n",
    "from typing import Optional\n",
    "from bs4 import BeautifulSoup\n",
    "from selenium import webdriver\n",
    "from selenium.webdriver.remote.webdriver import WebDriver\n",
    "from selenium.common.exceptions import NoSuchElementException\n"
   ]
  },
  {
   "cell_type": "code",
   "execution_count": 2,
   "metadata": {},
   "outputs": [],
   "source": [
    "def is_element(driver, by: str = By.ID, value: Optional[str] = None):\n",
    "    try:\n",
    "        driver.find_element(by, value)\n",
    "    except NoSuchElementException:\n",
    "        return False\n",
    "    return True"
   ]
  },
  {
   "cell_type": "code",
   "execution_count": 3,
   "metadata": {},
   "outputs": [],
   "source": [
    "WebDriver.is_element = is_element"
   ]
  },
  {
   "cell_type": "code",
   "execution_count": 5,
   "metadata": {},
   "outputs": [],
   "source": [
    "\n",
    "options = Options()\n",
    "options.headless = False\n",
    "options.set_preference(\"javascript.enabled\", True)\n",
    "driver = webdriver.Firefox(options=options)\n"
   ]
  },
  {
   "cell_type": "code",
   "execution_count": 6,
   "metadata": {},
   "outputs": [],
   "source": [
    "url = 'https://www.handelsblatt.com/'\n",
    "driver.get(url)"
   ]
  },
  {
   "cell_type": "code",
   "execution_count": 7,
   "metadata": {},
   "outputs": [],
   "source": [
    "# Find all iframe elements on the page\n",
    "frames = driver.find_elements(By.TAG_NAME, \"iframe\")"
   ]
  },
  {
   "cell_type": "code",
   "execution_count": 8,
   "metadata": {},
   "outputs": [
    {
     "name": "stdout",
     "output_type": "stream",
     "text": [
      "sp_message_iframe_1051690\n",
      "<selenium.webdriver.remote.webelement.WebElement (session=\"040db83b-35cf-49e3-a686-0c49b7ad0ab2\", element=\"522b4083-ec4c-4df8-ba21-acb3381bbc61\")>\n",
      "sp_message_iframe_1051690\n"
     ]
    }
   ],
   "source": [
    "# go through all frames and find the button\n",
    "xpath_accept_cookies_button = \"//button[text()='ZUSTIMMEN']\"\n",
    "for frame in frames:\n",
    "    frame_id = frame.get_attribute(\"id\")\n",
    "    if frame_id:\n",
    "        print(frame_id)\n",
    "        driver.switch_to.frame(frame_id)\n",
    "        if driver.is_element(By.XPATH, xpath_accept_cookies_button):\n",
    "            button_accept_cookies = driver.find_element(By.XPATH, xpath_accept_cookies_button)\n",
    "            print(button_accept_cookies)\n",
    "            print(frame_id)\n",
    "            break\n",
    "button_accept_cookies.click()\n",
    "driver.switch_to.default_content()    \n",
    "    "
   ]
  },
  {
   "cell_type": "code",
   "execution_count": null,
   "metadata": {},
   "outputs": [],
   "source": [
    "try:\n",
    "    # Wait for the iframe to be present\n",
    "    iframe = WebDriverWait(driver, 10).until(\n",
    "        EC.presence_of_element_located((By.TAG_NAME, \"iframe\"))\n",
    "    )\n",
    "    \n",
    "    # Switch WebDriver focus to the iframe\n",
    "    driver.switch_to.frame(iframe)\n",
    "    \n",
    "    # Now you can interact with elements inside the iframe\n",
    "    # For example, find an element and click it\n",
    "    driver.find_element(By.XPATH, \"//button[text()='ZUSTIMMEN']\").click()\n",
    "    \n",
    "    # Once you're done interacting with elements inside the iframe, switch back to the default content\n",
    "    driver.switch_to.default_content()\n",
    "    \n",
    "except Exception as e:\n",
    "    print(\"Exception occurred:\", e)"
   ]
  },
  {
   "cell_type": "code",
   "execution_count": null,
   "metadata": {},
   "outputs": [],
   "source": [
    "iframe = \"\"\n",
    "driver.switch_to.frame(iframe)"
   ]
  },
  {
   "cell_type": "code",
   "execution_count": null,
   "metadata": {},
   "outputs": [],
   "source": [
    "driver.find_element(By.XPATH, '//button[@class=\"message-component message-button no-children focusable sp_choice_type_11\"]')"
   ]
  },
  {
   "cell_type": "code",
   "execution_count": null,
   "metadata": {},
   "outputs": [],
   "source": [
    "driver = webdriver.Firefox()\n",
    "driver.get('https://www.handelsblatt.com/')\n",
    "try:\n",
    "    # Wait for the cookie popup to appear\n",
    "    cookie_popup = WebDriverWait(driver, 10).until(\n",
    "        EC.visibility_of_element_located((By.XPATH, '//button[contains(text(), \"ZUSTIMMEN\")]'))\n",
    "    )\n",
    "    \n",
    "    # Click the \"ZUSTIMMEN\" button to accept the cookies\n",
    "    cookie_popup.click()\n",
    "    \n",
    "except Exception as e:\n",
    "    print(\"Exception occurred:\", e)\n"
   ]
  },
  {
   "cell_type": "code",
   "execution_count": null,
   "metadata": {},
   "outputs": [],
   "source": [
    "driver.get_screenshot_as_file(\"test.png\")"
   ]
  },
  {
   "cell_type": "code",
   "execution_count": null,
   "metadata": {},
   "outputs": [],
   "source": [
    "print(driver.page_source)"
   ]
  },
  {
   "cell_type": "code",
   "execution_count": null,
   "metadata": {},
   "outputs": [],
   "source": [
    "driver.find_element(By.XPATH, '//button[@class=\"message-component message-button no-children focusable sp_choice_type_12 first-focusable-el\"]')"
   ]
  },
  {
   "cell_type": "code",
   "execution_count": null,
   "metadata": {},
   "outputs": [],
   "source": [
    "input_email = driver.find_element(By.XPATH, '//input[@class=\"form-input__input ng-pristine ng-invalid ng-touched\" and @type=\"email\"]')\n",
    "input_secret = driver.find_element(By.XPATH, '//input[@class=\"form-input__input ng-pristine ng-invalid ng-touched\" and @type=\"password\"]')"
   ]
  },
  {
   "cell_type": "code",
   "execution_count": null,
   "metadata": {},
   "outputs": [],
   "source": [
    "input_field.clear()\n",
    "input_field.send_keys(\"dow.jones@wallstreet.com\")"
   ]
  },
  {
   "cell_type": "code",
   "execution_count": null,
   "metadata": {},
   "outputs": [],
   "source": [
    "driver.find_element(By.XPATH, '//a[@href=\"/unternehmen/\"]').click()\n"
   ]
  },
  {
   "cell_type": "code",
   "execution_count": null,
   "metadata": {},
   "outputs": [],
   "source": [
    "driver.find_elements(By.XPATH, '//button')"
   ]
  },
  {
   "cell_type": "code",
   "execution_count": null,
   "metadata": {},
   "outputs": [],
   "source": [
    "html = driver.page_source"
   ]
  },
  {
   "cell_type": "code",
   "execution_count": null,
   "metadata": {},
   "outputs": [],
   "source": []
  },
  {
   "cell_type": "code",
   "execution_count": null,
   "metadata": {},
   "outputs": [],
   "source": [
    "soup = BeautifulSoup(html, \"html.parser\")"
   ]
  },
  {
   "cell_type": "code",
   "execution_count": null,
   "metadata": {},
   "outputs": [],
   "source": [
    "soup"
   ]
  },
  {
   "cell_type": "code",
   "execution_count": null,
   "metadata": {},
   "outputs": [],
   "source": [
    "import os"
   ]
  },
  {
   "cell_type": "code",
   "execution_count": null,
   "metadata": {},
   "outputs": [],
   "source": [
    "current_dir = os.getcwd()"
   ]
  },
  {
   "cell_type": "code",
   "execution_count": null,
   "metadata": {},
   "outputs": [],
   "source": [
    "parent_dir = os.path.dirname(current_dir)"
   ]
  },
  {
   "cell_type": "code",
   "execution_count": null,
   "metadata": {},
   "outputs": [],
   "source": [
    "print(current_dir)"
   ]
  },
  {
   "cell_type": "code",
   "execution_count": null,
   "metadata": {},
   "outputs": [],
   "source": [
    "from pathlib import Path"
   ]
  },
  {
   "cell_type": "code",
   "execution_count": null,
   "metadata": {},
   "outputs": [],
   "source": [
    "if Path(current_dir) != Path(\"/home/malte/Dokumente/projects/bluescraper\"):\n",
    "    os.chdir(parent_dir)\n",
    "print(\"Current dir:\", os.getcwd())"
   ]
  },
  {
   "cell_type": "code",
   "execution_count": null,
   "metadata": {},
   "outputs": [],
   "source": [
    "# soup = get_soup(\n",
    "#     \"https://www.tagesschau.de/archiv\",\n",
    "#     request_params={\"datum\": \"2024-02-08\", \"filter\": \"inland\"},\n",
    "# )\n",
    "file_path = constants.GROUPS_HANDELSBLATT_HTML_PATH\n",
    "with open(file_path, \"r\", encoding=\"utf-8\") as f:\n",
    "    html = f.read()\n",
    "soup = BeautifulSoup(html, \"html.parser\")\n",
    "config_reader = ConfigReader(constants.CONFIG_HANDELSBLATT_GROUPS_HTML_YAML)\n",
    "config = config_reader.load()\n",
    "scraper = Scraper(soup, config)"
   ]
  },
  {
   "cell_type": "code",
   "execution_count": null,
   "metadata": {},
   "outputs": [],
   "source": [
    "teaser_var1 = soup.find_all(\"li\", {\"_ngcontent-ng-c743313193\": True, \"class\": \"ng-star-inserted\"})\n",
    "len(teaser_var1)"
   ]
  },
  {
   "cell_type": "code",
   "execution_count": null,
   "metadata": {},
   "outputs": [],
   "source": [
    "teaser_var2 = soup.find_all(\"li\", {\"_ngcontent-ng-c743313193\": \"\", \"class\": \"ng-star-inserted\"}) # attribute _ngcontent-ng-c743313193 will be ignored\n",
    "len(teaser_var2)"
   ]
  },
  {
   "cell_type": "code",
   "execution_count": null,
   "metadata": {},
   "outputs": [],
   "source": [
    "teaser_var1"
   ]
  },
  {
   "cell_type": "code",
   "execution_count": null,
   "metadata": {},
   "outputs": [],
   "source": [
    "teaser_var1[5].find(\"div\", {\"class\": \"teaser-head\"}).get_text()\n"
   ]
  },
  {
   "cell_type": "code",
   "execution_count": null,
   "metadata": {},
   "outputs": [],
   "source": [
    "scraper.extract_by_group()"
   ]
  },
  {
   "cell_type": "code",
   "execution_count": null,
   "metadata": {},
   "outputs": [],
   "source": [
    "scraper.extract_tag(soup, tag=TagDefinition(name=\"div\", attrs={\"class\": \"teaser-head\"}), content_type=None)"
   ]
  },
  {
   "cell_type": "code",
   "execution_count": null,
   "metadata": {},
   "outputs": [],
   "source": [
    "config"
   ]
  },
  {
   "cell_type": "code",
   "execution_count": null,
   "metadata": {},
   "outputs": [],
   "source": [
    "article_links = soup.find(attrs={\"class\": \"teaser-right__link\"})"
   ]
  },
  {
   "cell_type": "code",
   "execution_count": null,
   "metadata": {},
   "outputs": [],
   "source": [
    "article_links"
   ]
  },
  {
   "cell_type": "code",
   "execution_count": null,
   "metadata": {},
   "outputs": [],
   "source": [
    "soup"
   ]
  }
 ],
 "metadata": {
  "kernelspec": {
   "display_name": "bluescraper-OzgSI_go-py3.12",
   "language": "python",
   "name": "python3"
  },
  "language_info": {
   "codemirror_mode": {
    "name": "ipython",
    "version": 3
   },
   "file_extension": ".py",
   "mimetype": "text/x-python",
   "name": "python",
   "nbconvert_exporter": "python",
   "pygments_lexer": "ipython3",
   "version": "3.12.2"
  }
 },
 "nbformat": 4,
 "nbformat_minor": 2
}
